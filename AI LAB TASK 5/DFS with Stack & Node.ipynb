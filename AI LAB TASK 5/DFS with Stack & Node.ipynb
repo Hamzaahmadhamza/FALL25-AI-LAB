{
 "cells": [
  {
   "cell_type": "code",
   "execution_count": 5,
   "id": "7210e931",
   "metadata": {},
   "outputs": [
    {
     "name": "stdout",
     "output_type": "stream",
     "text": [
      "DFS: ['A', 'B', 'D', 'E', 'C']\n",
      "\n",
      "Preorder: A B D E C \n",
      "Inorder: D B E A C \n",
      "Postorder: D E B C A "
     ]
    }
   ],
   "source": [
    "class N:\n",
    "    def __init__(s,v): s.v=v; s.l=s.r=None\n",
    "\n",
    "def dfs(r):\n",
    "    if not r: return []\n",
    "    st,res=[r],[]\n",
    "    while st:\n",
    "        n=st.pop(); res.append(n.v)\n",
    "        if n.r: st.append(n.r)\n",
    "        if n.l: st.append(n.l)\n",
    "    return res\n",
    "\n",
    "def pre(r): \n",
    "    if r: print(r.v,end=' '); pre(r.l); pre(r.r)\n",
    "\n",
    "def ino(r): \n",
    "    if r: ino(r.l); print(r.v,end=' '); ino(r.r)\n",
    "\n",
    "def post(r): \n",
    "    if r: post(r.l); post(r.r); print(r.v,end=' ')\n",
    "\n",
    "root=N('A'); root.l=N('B'); root.r=N('C'); root.l.l=N('D'); root.l.r=N('E')\n",
    "\n",
    "print(\"DFS:\",dfs(root))\n",
    "print(\"\\nPreorder:\",end=' '); pre(root)\n",
    "print(\"\\nInorder:\",end=' '); ino(root)\n",
    "print(\"\\nPostorder:\",end=' '); post(root)\n"
   ]
  }
 ],
 "metadata": {
  "kernelspec": {
   "display_name": "base",
   "language": "python",
   "name": "python3"
  },
  "language_info": {
   "codemirror_mode": {
    "name": "ipython",
    "version": 3
   },
   "file_extension": ".py",
   "mimetype": "text/x-python",
   "name": "python",
   "nbconvert_exporter": "python",
   "pygments_lexer": "ipython3",
   "version": "3.12.7"
  }
 },
 "nbformat": 4,
 "nbformat_minor": 5
}
