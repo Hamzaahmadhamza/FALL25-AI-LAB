{
 "cells": [
  {
   "cell_type": "code",
   "execution_count": 9,
   "id": "42eb7884",
   "metadata": {},
   "outputs": [
    {
     "name": "stdout",
     "output_type": "stream",
     "text": [
      "DFS with stack: ['A', 'B', 'D', 'E', 'C']\n"
     ]
    }
   ],
   "source": [
    "class Node:\n",
    "    def __init__(self, v):\n",
    "        self.v = v\n",
    "        self.l = None\n",
    "        self.r = None\n",
    "\n",
    "def dfs_stack(root):\n",
    "    if not root: \n",
    "        return []\n",
    "    stack = [root]      \n",
    "    visited = []       \n",
    "    while stack:        \n",
    "        node = stack.pop()\n",
    "        visited.append(node.v)\n",
    "        if node.r: stack.append(node.r)\n",
    "        if node.l: stack.append(node.l)\n",
    "    return visited\n",
    "\n",
    "\n",
    "root = Node('A')\n",
    "root.l = Node('B')\n",
    "root.r = Node('C')\n",
    "root.l.l = Node('D')\n",
    "root.l.r = Node('E')\n",
    "\n",
    "print(\"DFS with stack:\", dfs_stack(root))\n"
   ]
  },
  {
   "cell_type": "code",
   "execution_count": 6,
   "id": "e8f52014",
   "metadata": {},
   "outputs": [
    {
     "name": "stdout",
     "output_type": "stream",
     "text": [
      "DFS: ['A', 'B', 'D', 'E', 'C']\n",
      "\n",
      "Preorder: A B D E C \n",
      "Inorder: D B E A C \n",
      "Postorder: D E B C A "
     ]
    }
   ],
   "source": [
    "class N:\n",
    "    def __init__(s,v): s.v=v; s.l=s.r=None\n",
    "\n",
    "def dfs(r):\n",
    "    if not r: return []\n",
    "    st,res=[r],[]\n",
    "    while st:\n",
    "        n=st.pop(); res.append(n.v)\n",
    "        if n.r: st.append(n.r)\n",
    "        if n.l: st.append(n.l)\n",
    "    return res\n",
    "\n",
    "def pre(r): \n",
    "    if r: print(r.v,end=' '); pre(r.l); pre(r.r)\n",
    "\n",
    "def ino(r): \n",
    "    if r: ino(r.l); print(r.v,end=' '); ino(r.r)\n",
    "\n",
    "def post(r): \n",
    "    if r: post(r.l); post(r.r); print(r.v,end=' ')\n",
    "\n",
    "root=N('A'); root.l=N('B'); root.r=N('C'); root.l.l=N('D'); root.l.r=N('E')\n",
    "\n",
    "print(\"DFS:\",dfs(root))\n",
    "print(\"\\nPreorder:\",end=' '); pre(root)\n",
    "print(\"\\nInorder:\",end=' '); ino(root)\n",
    "print(\"\\nPostorder:\",end=' '); post(root)"
   ]
  }
 ],
 "metadata": {
  "kernelspec": {
   "display_name": "Python 3",
   "language": "python",
   "name": "python3"
  },
  "language_info": {
   "codemirror_mode": {
    "name": "ipython",
    "version": 3
   },
   "file_extension": ".py",
   "mimetype": "text/x-python",
   "name": "python",
   "nbconvert_exporter": "python",
   "pygments_lexer": "ipython3",
   "version": "3.11.9"
  }
 },
 "nbformat": 4,
 "nbformat_minor": 5
}
