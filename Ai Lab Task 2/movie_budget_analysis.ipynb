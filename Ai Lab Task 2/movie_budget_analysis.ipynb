{
 "cells": [
  {
   "cell_type": "markdown",
   "id": "6ef862de",
   "metadata": {},
   "source": [
    "# Movie Budget Analysis\n",
    "This notebook lets you:\n",
    "- Start with a predefined list of movies and budgets\n",
    "- Add new movies interactively\n",
    "- Calculate the average budget\n",
    "- Show which movies are above the average"
   ]
  },
  {
   "cell_type": "code",
   "execution_count": null,
   "id": "6967e1c2",
   "metadata": {},
   "outputs": [],
   "source": [
    "# List of movies with name and budget\n",
    "film_list = [\n",
    "    (\"Eternal Sunshine of the Spotless Mind\", 20000000),\n",
    "    (\"Memento\", 9000000),\n",
    "    (\"Requiem for a Dream\", 4500000),\n",
    "    (\"Pirates of the Caribbean: On Stranger Tides\", 379000000),\n",
    "    (\"Avengers: Age of Ultron\", 365000000),\n",
    "    (\"Avengers: Endgame\", 356000000),\n",
    "    (\"Incredibles 2\", 200000000)\n",
    "]\n",
    "\n",
    "# Ask user to add extra movies\n",
    "add_movies = int(input(\"How many movies do you want to add? \"))\n",
    "\n",
    "for i in range(add_movies):\n",
    "    film_name = input(f\"Enter movie name #{i+1}: \")\n",
    "    film_budget = int(input(\"Enter movie budget: \"))\n",
    "    film_list.append((film_name, film_budget))\n",
    "\n",
    "# Calculate average budget\n",
    "total = sum(b for _, b in film_list)\n",
    "avg_budget = total / len(film_list)\n",
    "print(f\"\\n🎬 Average budget: ${avg_budget:,.0f}\")\n",
    "\n",
    "# Show movies with higher than average\n",
    "print(\"\\nMovies above average budget:\")\n",
    "above_movies = [(title, cost, cost - avg_budget) for title, cost in film_list if cost > avg_budget]\n",
    "\n",
    "for title, cost, extra in above_movies:\n",
    "    print(f\"- {title}: ${cost:,.0f} (Above by ${extra:,.0f})\")\n",
    "\n",
    "print(f\"\\nTotal movies above average: {len(above_movies)}\")"
   ]
  }
 ],
 "metadata": {
  "kernelspec": {
   "display_name": "base",
   "language": "python",
   "name": "python3"
  },
  "language_info": {
   "codemirror_mode": {
    "name": "ipython",
    "version": 3
   },
   "file_extension": ".py",
   "mimetype": "text/x-python",
   "name": "python",
   "nbconvert_exporter": "python",
   "pygments_lexer": "ipython3",
   "version": "3.12.7"
  }
 },
 "nbformat": 4,
 "nbformat_minor": 5
}
