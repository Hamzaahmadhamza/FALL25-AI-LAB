{
 "cells": [
  {
   "cell_type": "markdown",
   "id": "8bce17b1",
   "metadata": {},
   "source": [
    "# 🎮 FizzBuzz Game\n",
    "\n",
    "Welcome to the **FizzBuzz Game**! 🚀  \n",
    "\n",
    "## Game Rules\n",
    "1. The computer will give you a number.  \n",
    "2. The **actual number** is calculated as: **previous computer number + current computer number**  \n",
    "   - For the first round, the previous number is 0.  \n",
    "3. You must say:  \n",
    "   - **\"fizz\"** if the actual number is divisible by 3  \n",
    "   - **\"buzz\"** if the actual number is divisible by 5  \n",
    "   - **\"fizz buzz\"** if the actual number is divisible by both 3 and 5  \n",
    "   - Otherwise, type the actual number itself  \n",
    "4. If your answer is wrong → the game ends immediately ❌  \n",
    "5. If your answer is correct → the next round will start ✅  \n",
    "6. Type **exit** anytime to quit the game.  \n"
   ]
  },
  {
   "cell_type": "code",
   "execution_count": null,
   "id": "73a859f6",
   "metadata": {},
   "outputs": [
    {
     "name": "stdout",
     "output_type": "stream",
     "text": [
      "🎮 Welcome to FizzBuzz Game!\n",
      "Follow the rules above and try to survive all rounds!\n",
      "\n",
      "Round 1 | Previous = 0, Computer -> 18\n",
      "✅ Correct!\n",
      "Round 2 | Previous = 18, Computer -> 15\n",
      "✅ Correct!\n",
      "Round 3 | Previous = 15, Computer -> 8\n",
      "✅ Correct!\n",
      "Round 4 | Previous = 8, Computer -> 16\n",
      "✅ Correct!\n",
      "Round 5 | Previous = 16, Computer -> 6\n",
      "✅ Correct!\n",
      "Round 6 | Previous = 6, Computer -> 4\n"
     ]
    }
   ],
   "source": [
    "import random\n",
    "\n",
    "def fizzbuzz_answer(n: int) -> str:\n",
    "    if n % 15 == 0:\n",
    "        return \"fizz buzz\"\n",
    "    elif n % 3 == 0:\n",
    "        return \"fizz\"\n",
    "    elif n % 5 == 0:\n",
    "        return \"buzz\"\n",
    "    else:\n",
    "        return str(n)   # number itself\n",
    "\n",
    "def _normalize(text: str) -> str:\n",
    "    s = str(text).strip().lower()\n",
    "    s = \" \".join(s.split())\n",
    "    if s == \"fizzbuzz\":\n",
    "        s = \"fizz buzz\"\n",
    "    if s in {\"fb\", \"f b\"}:\n",
    "        s = \"fizz buzz\"\n",
    "    return s\n",
    "\n",
    "def play_game(rounds: int = 10, low: int = 1, high: int = 20) -> None:\n",
    "    print(\"🎮 Welcome to FizzBuzz Game!\")\n",
    "    print(\"Follow the rules above and try to survive all rounds!\\n\")\n",
    "\n",
    "    prev = 0\n",
    "    for r in range(1, rounds + 1):\n",
    "        comp = random.randint(low, high)\n",
    "        actual = prev + comp\n",
    "        correct = fizzbuzz_answer(actual)\n",
    "\n",
    "        print(f\"Round {r} | Previous = {prev}, Computer -> {comp}\")\n",
    "        user = input(\"Your answer: \").strip()\n",
    "\n",
    "        if user.lower() == \"exit\":\n",
    "            print(\"👋 Game ended by user.\")\n",
    "            break\n",
    "\n",
    "        norm = _normalize(user)\n",
    "\n",
    "        if norm == correct.lower():\n",
    "            print(\"✅ Correct!\")\n",
    "        else:\n",
    "            print(f\"❌ Wrong! Correct answer was: {correct}\")\n",
    "            print(\"💀 Game Over!\")\n",
    "            break  # game ends immediately on wrong answer\n",
    "\n",
    "        prev = comp\n",
    "\n",
    "# Run the game\n",
    "play_game(10)\n"
   ]
  }
 ],
 "metadata": {
  "kernelspec": {
   "display_name": "base",
   "language": "python",
   "name": "python3"
  },
  "language_info": {
   "codemirror_mode": {
    "name": "ipython",
    "version": 3
   },
   "file_extension": ".py",
   "mimetype": "text/x-python",
   "name": "python",
   "nbconvert_exporter": "python",
   "pygments_lexer": "ipython3",
   "version": "3.12.7"
  }
 },
 "nbformat": 4,
 "nbformat_minor": 5
}
