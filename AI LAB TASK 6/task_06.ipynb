{
 "cells": [
  {
   "cell_type": "code",
   "execution_count": 1,
   "id": "583be59e",
   "metadata": {},
   "outputs": [
    {
     "name": "stdout",
     "output_type": "stream",
     "text": [
      "BFS Order: ['A', 'B', 'C', 'D', 'E', 'F', 'G']\n"
     ]
    }
   ],
   "source": [
    "graph = {\n",
    "    'A': ['B', 'C'],\n",
    "    'B': ['D', 'E'],\n",
    "    'C': ['F'],\n",
    "    'D': [],\n",
    "    'E': [],\n",
    "    'F': ['G'],\n",
    "    'G': []\n",
    "}\n",
    "\n",
    "def bfs(graph, source):\n",
    "    result = []          \n",
    "    current = [source]   \n",
    "    \n",
    "    while current:\n",
    "        result += current\n",
    "        current = sum([graph[x] for x in current], [])  \n",
    "    \n",
    "    return result\n",
    "\n",
    "print(\"BFS Order:\", bfs(graph, 'A'))\n"
   ]
  },
  {
   "cell_type": "code",
   "execution_count": 3,
   "id": "a59fa927",
   "metadata": {},
   "outputs": [
    {
     "name": "stdout",
     "output_type": "stream",
     "text": [
      "BFS Traversal: ['A', 'B', 'C', 'D', 'E', 'F']\n"
     ]
    }
   ],
   "source": [
    "from collections import deque\n",
    "class Node:\n",
    "    def __init__(self, val):\n",
    "        self.val = val\n",
    "        self.left = None\n",
    "        self.right = None\n",
    "def bfs(start):\n",
    "    if not start:\n",
    "        return []\n",
    "    \n",
    "    order = []\n",
    "    queue = deque([start])\n",
    "    \n",
    "    while queue:\n",
    "        curr = queue.popleft()\n",
    "        order.append(curr.val)\n",
    "        \n",
    "        if curr.left:\n",
    "            queue.append(curr.left)\n",
    "        if curr.right:\n",
    "            queue.append(curr.right)\n",
    "    \n",
    "    return order\n",
    "root = Node('A')\n",
    "root.left = Node('B')\n",
    "root.right = Node('C')\n",
    "root.left.left = Node('D')\n",
    "root.left.right = Node('E')\n",
    "root.right.right = Node('F')\n",
    "\n",
    "print(\"BFS Traversal:\", bfs(root))\n"
   ]
  }
 ],
 "metadata": {
  "kernelspec": {
   "display_name": "base",
   "language": "python",
   "name": "python3"
  },
  "language_info": {
   "codemirror_mode": {
    "name": "ipython",
    "version": 3
   },
   "file_extension": ".py",
   "mimetype": "text/x-python",
   "name": "python",
   "nbconvert_exporter": "python",
   "pygments_lexer": "ipython3",
   "version": "3.12.7"
  }
 },
 "nbformat": 4,
 "nbformat_minor": 5
}
